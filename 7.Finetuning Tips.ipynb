{
 "cells": [
  {
   "cell_type": "markdown",
   "metadata": {},
   "source": [
    "1. Figure out your task\n",
    "   \n",
    "2. Collect data related to the task's inputs/outputs\n",
    "3. Generate data if you don't have enough data\n",
    "4. Finetune a small model (e.g. 400M-1B)\n",
    "5. Vary amount of data you give the model\n",
    "6. Evaluate your LLM to know what's going well or not\n",
    "7. Collect more data to improve\n",
    "8. Increase the complexity of the task\n",
    "9.  Increase model size for performance"
   ]
  },
  {
   "cell_type": "markdown",
   "metadata": {},
   "source": [
    "## **PEFT: Parameter-Efficient Fine-Tuning**"
   ]
  }
 ],
 "metadata": {
  "language_info": {
   "name": "python"
  }
 },
 "nbformat": 4,
 "nbformat_minor": 2
}
